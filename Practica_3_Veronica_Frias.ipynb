{
  "nbformat": 4,
  "nbformat_minor": 0,
  "metadata": {
    "colab": {
      "provenance": [],
      "authorship_tag": "ABX9TyOmYw3dBPN03HastiM5lbkK",
      "include_colab_link": true
    },
    "kernelspec": {
      "name": "python3",
      "display_name": "Python 3"
    },
    "language_info": {
      "name": "python"
    }
  },
  "cells": [
    {
      "cell_type": "markdown",
      "metadata": {
        "id": "view-in-github",
        "colab_type": "text"
      },
      "source": [
        "<a href=\"https://colab.research.google.com/github/VeroFrias93/TOPICO-DE-LA-INDUSTRIA-1/blob/main/Practica_3_Veronica_Frias.ipynb\" target=\"_parent\"><img src=\"https://colab.research.google.com/assets/colab-badge.svg\" alt=\"Open In Colab\"/></a>"
      ]
    },
    {
      "cell_type": "markdown",
      "source": [
        "# Práctica 3\n",
        "\n",
        "**Nombre:** Veronica Marisela Frias Peralta  \n",
        "**e-mail:** veronica.frias6148@alumnos.udg.mx"
      ],
      "metadata": {
        "id": "JtxY719pBXEA"
      }
    },
    {
      "cell_type": "markdown",
      "source": [
        "# MODULES"
      ],
      "metadata": {
        "id": "qdeMdgfyBzjo"
      }
    },
    {
      "cell_type": "code",
      "source": [
        "import math\n",
        "import numpy as np\n",
        "import pandas as pd\n",
        "\n",
        "import plotly.graph_objects as go\n",
        "\n",
        "from scipy.stats import wrapcauchy\n",
        "from scipy.stats import levy_stable\n",
        "\n",
        "from scipy.spatial import distance"
      ],
      "metadata": {
        "id": "UiiEpApzBrEw"
      },
      "execution_count": null,
      "outputs": []
    },
    {
      "cell_type": "markdown",
      "source": [
        "## CLASSES"
      ],
      "metadata": {
        "id": "ssQGvQhoB4OP"
      }
    },
    {
      "cell_type": "code",
      "execution_count": null,
      "metadata": {
        "id": "9CGrq0w4uD0g"
      },
      "outputs": [],
      "source": [
        "################# http://www.pygame.org/wiki/2DVectorClass ##################\n",
        "class Vec2d(object):\n",
        "    \"\"\"2d vector class, supports vector and scalar operators,\n",
        "       and also provides a bunch of high level functions\n",
        "       \"\"\"\n",
        "    __slots__ = ['x', 'y']\n",
        "\n",
        "    def __init__(self, x_or_pair, y = None):\n",
        "        if y == None:\n",
        "            self.x = x_or_pair[0]\n",
        "            self.y = x_or_pair[1]\n",
        "        else:\n",
        "            self.x = x_or_pair\n",
        "            self.y = y\n",
        "\n",
        "    # Addition\n",
        "    def __add__(self, other):\n",
        "        if isinstance(other, Vec2d):\n",
        "            return Vec2d(self.x + other.x, self.y + other.y)\n",
        "        elif hasattr(other, \"__getitem__\"):\n",
        "            return Vec2d(self.x + other[0], self.y + other[1])\n",
        "        else:\n",
        "            return Vec2d(self.x + other, self.y + other)\n",
        "\n",
        "    # Subtraction\n",
        "    def __sub__(self, other):\n",
        "        if isinstance(other, Vec2d):\n",
        "            return Vec2d(self.x - other.x, self.y - other.y)\n",
        "        elif (hasattr(other, \"__getitem__\")):\n",
        "            return Vec2d(self.x - other[0], self.y - other[1])\n",
        "        else:\n",
        "            return Vec2d(self.x - other, self.y - other)\n",
        "\n",
        "    # Vector length\n",
        "    def get_length(self):\n",
        "        return math.sqrt(self.x**2 + self.y**2)\n",
        "\n",
        "    # rotate vector\n",
        "    def rotated(self, angle):\n",
        "        cos = math.cos(angle)\n",
        "        sin = math.sin(angle)\n",
        "        x = self.x*cos - self.y*sin\n",
        "        y = self.x*sin + self.y*cos\n",
        "        return Vec2d(x, y)"
      ]
    },
    {
      "cell_type": "markdown",
      "source": [
        "## FUNCTIONS"
      ],
      "metadata": {
        "id": "Fn3ywWRbDW2-"
      }
    },
    {
      "cell_type": "code",
      "source": [
        "###############################################################################################\n",
        "# Turning angle\n",
        "# This function calculates the turning angle between three consecutive positions\n",
        "###############################################################################################\n",
        "def turning_angle(pos_a, pos_b, pos_c):\n",
        "    \"\"\"\n",
        "    Arguments:\n",
        "        pos_a: First position coordinates\n",
        "        pos_b: Second position coordinates\n",
        "        pos_c: Third position coordinates\n",
        "    Returns:\n",
        "        theta: Turning angle\n",
        "    \"\"\"\n",
        "    vec_ab = #code here\n",
        "    norm_ab = #code here\n",
        "\n",
        "    vec_bc = #code here\n",
        "    norm_bc = #code here\n",
        "\n",
        "    dot_p = #code here\n",
        "\n",
        "    # Nota: Evitar division por cero con np.finfo(float).eps\n",
        "    cos_theta = #code here\n",
        "\n",
        "    # Angle orientation\n",
        "    cross_p = #code here\n",
        "    orient = np.sign(cross_p)\n",
        "    if orient == 0:\n",
        "        orient = 1\n",
        "\n",
        "    theta = np.arccos(np.around(cos_theta,4)) * orient\n",
        "    return theta\n",
        "\n"
      ],
      "metadata": {
        "id": "iGbc_IemDcRG"
      },
      "execution_count": null,
      "outputs": []
    },
    {
      "cell_type": "markdown",
      "source": [
        "## Actividad 1: Path Length - (BM1 vs BM2 vs CRW) (4 pts)\n",
        "\n",
        "* Implementar función que genere **Brownian Motions** (BM) utilizando **pandas**.\n",
        "* Implementar función que genere **Correlated Random Walks** (CRW) utilizando pandas.\n",
        "* Implementar una función alternativa a las ya disponibles en los distintos modulos de python que calcule los valores de la curva de **path length** de una trayectoria.\n",
        "* Guardar los valores de la métrica en un Data Frame de **pandas**.\n",
        "* Visualizar con **plotly**."
      ],
      "metadata": {
        "id": "jsJC2CSjDkH6"
      }
    },
    {
      "cell_type": "code",
      "source": [
        "# Load existing trajectories to test your implementation\n",
        "# BM speed = 3\n",
        "BM_2d_df_3 = pd.read_csv('trajectories/brownian_3.csv')\n",
        "\n",
        "# Load existing trajectories to test your implementation\n",
        "# BM speed = 6\n",
        "BM_2d_df_6 = pd.read_csv('trajectories/brownian_6.csv')\n",
        "\n",
        "# Load existing trajectories to test your implementation\n",
        "CRW_2d_df_9 = pd.read_csv('trajectories/crw_6_9.csv')"
      ],
      "metadata": {
        "id": "_CA5dm86DeQn"
      },
      "execution_count": null,
      "outputs": []
    },
    {
      "cell_type": "code",
      "source": [
        "BM_2d_df_6.shape[0]"
      ],
      "metadata": {
        "id": "jqbClgyKwgh9"
      },
      "execution_count": null,
      "outputs": []
    },
    {
      "cell_type": "code",
      "source": [
        "# Define your function to compute path length for given trajectory\n",
        "\n",
        "## start - Add your code here\n",
        "# def function (trajectory):\n",
        "\n",
        "\n",
        "    #return path_length_df\n",
        "\n",
        "## end - Add your code here"
      ],
      "metadata": {
        "id": "QzU9itOnDxuw"
      },
      "execution_count": null,
      "outputs": []
    },
    {
      "cell_type": "code",
      "source": [
        "# Get Path length calling the function\n",
        "PL_BM_3 = # Add your code here function(BM_2d_df_3)\n",
        "def BM_2d_df(BM_2d_df = pd.DataFrame):\n",
        "    dis_BM = np.array([np.sqrt(np.sum(np.square(BM_2d_df.loc[i-1] - BM_2d_df.iloc[i]))) for i in range(1,BM_2d_df.shape[0])])\n",
        "    return np.cumsum(dis_BM)\n",
        "    pl_BM_3 = BM_2d_df(BM_2d_df_3)\n",
        "# Get Path length calling the function\n",
        "PL_BM_6 = # Add your code here function(BM_2d_df_6)\n",
        "pl_BM_6 = BM_2d_df(BM_2d_df_6)\n",
        "\n",
        "# Get Path length calling the function\n",
        "PL_CRW_6 = # Add your code here function(CRW_2d_df_9)\n",
        "pl_BM_9 = BM_2d_df(BM_2d_df_6)"
      ],
      "metadata": {
        "id": "KJ6P93ksD3RQ"
      },
      "execution_count": null,
      "outputs": []
    },
    {
      "cell_type": "code",
      "source": [
        "# Plotting\n",
        "# Init figure\n",
        "fig_path_length = go.Figure()\n",
        "\n",
        "# First trace BM1\n",
        "## start - Add your code here\n",
        "fig_path_length.add_trace(go.Scatter(\n",
        "    x = np.arange(len(pl_BM_3)),\n",
        "    y = pl_BM_3,\n",
        "    marker = dict(size=2),\n",
        "    line = dict(width=2),\n",
        "    mode = 'lines',\n",
        "    name = 'path_length_BM_3',\n",
        "    showlegend = True\n",
        "))\n",
        "\n",
        "## end - Add your code here\n",
        "\n",
        "\n",
        "# Second trace BM2\n",
        "## start - Add your code here\n",
        "fig_path_length.add_trace(go.Scatter(\n",
        "    x = np.arange(len(pl_BM_6)),\n",
        "    y = pl_BM_6,\n",
        "    marker = dict(size=2),\n",
        "    line = dict(width=5),\n",
        "    mode = 'lines',\n",
        "    name = 'path_length_BM_6',\n",
        "    showlegend = True\n",
        "))\n",
        "\n",
        "## end - Add your code here\n",
        "\n",
        "\n",
        "# Third trace CRW\n",
        "## start - Add your code herfig_path_length.add_trace(go.Scatter(\n",
        "fig_path_length.add_trace(go.Scatter(\n",
        "    x = np.arange(len(pl_BM_9)),\n",
        "    y = pl_BM_9,\n",
        "    marker = dict(size=2),\n",
        "    line = dict(width=2),\n",
        "    mode = 'lines',\n",
        "    name = 'path_length_BM_9',\n",
        "    showlegend = True\n",
        "))\n",
        "## end - Add your code here\n",
        "\n",
        "fig_path_length.show()"
      ],
      "metadata": {
        "id": "gp0yh7tuD7qQ"
      },
      "execution_count": null,
      "outputs": []
    },
    {
      "cell_type": "markdown",
      "source": [
        "## Actividad 2: Mean Squared Displacement - (Brownian vs CRW) (4 pts)\n",
        "\n",
        "* Generar una trayectoria tipo **BM** y una **CRW**.\n",
        "* Implementar una función que calcule los valores de la curva de **mean squared displacement** de una trayectoria.\n",
        "* Guardar metricas en Pandas Data Frame.\n",
        "* Visualizar con **plotly**."
      ],
      "metadata": {
        "id": "Fclg7gy0EBAw"
      }
    },
    {
      "cell_type": "code",
      "source": [
        "# Load existing trajectories to test your implementation\n",
        "# BM speed = 6\n",
        "BM_2d_df_6 = pd.read_csv('trajectories/brownian_6.csv')\n",
        "\n",
        "# Load existing trajectories to test your implementation\n",
        "# CRW speed = 6, c = 0.9\n",
        "CRW_2d_df_9 = pd.read_csv('trajectories/crw_6_9.csv')"
      ],
      "metadata": {
        "id": "UQnERgMFyEcK"
      },
      "execution_count": null,
      "outputs": []
    },
    {
      "cell_type": "code",
      "source": [
        "# Show trajectories\n",
        "# Init figure\n",
        "fig_3d = go.Figure()\n",
        "\n",
        "# Plot trajectory in 3-D space\n",
        "fig_3d.add_trace(\n",
        "    go.Scatter3d(x = BM_2d_df_6.x_pos,\n",
        "                 y = BM_2d_df_6.y_pos,\n",
        "                 z = BM_2d_df_6.index,\n",
        "                 marker = dict(size=2),\n",
        "                 line = dict(color='blue', width=2),\n",
        "                 mode = 'lines',\n",
        "                 name = 'BM 2d',\n",
        "                 showlegend = True))\n",
        "\n",
        "\n",
        "fig_3d.add_trace(\n",
        "    go.Scatter3d(x = CRW_2d_df_9.x_pos,\n",
        "                 y = CRW_2d_df_9.y_pos,\n",
        "                 z = CRW_2d_df_9.index,\n",
        "                 marker = dict(size=2),\n",
        "                 line = dict(color='red', width=2),\n",
        "                 mode = 'lines',\n",
        "                 name = 'CRW 2d',\n",
        "                 showlegend = True))\n",
        "\n",
        "fig_3d.show()\n"
      ],
      "metadata": {
        "id": "-pNP5fqcyJuw"
      },
      "execution_count": null,
      "outputs": []
    },
    {
      "cell_type": "code",
      "source": [
        "BM_2d_df_6"
      ],
      "metadata": {
        "id": "1PSui-ijqsrH"
      },
      "execution_count": null,
      "outputs": []
    },
    {
      "cell_type": "code",
      "source": [
        "# Define your function to compute Mean Squared Displacement for given trajectory\n",
        "\n",
        "## start - Add your code here\n",
        "# def function (trajectory):\n",
        "\n",
        "\n",
        "    #return MSD_df\n",
        "\n",
        "## end - Add your code here"
      ],
      "metadata": {
        "id": "yxJp7nTxyOF1"
      },
      "execution_count": null,
      "outputs": []
    },
    {
      "cell_type": "code",
      "source": [
        "# Empty MSD_BM\n",
        "MSD_BM = np.empty(shape=(0))\n",
        "MSD_BM_list = []\n",
        "\n",
        "# MSD for BM_2d_df_6\n",
        "for tau in range(1,BM_2d_df_6.shape[0]):\n",
        "    ## start - Add your code here\n",
        "    displacement_vec_bm = np.array([distance.euclidean(BM_2d_df_6.iloc[i-tau], BM_2d_df_6.iloc[i])\n",
        "                  for i in range(tau, BM_2d_df_6.shape[0],1)])\n",
        "    MSD_BM_list.append(np.sum(np.power(displacement_vec_bm, 2))/len(displacement_vec_bm))\n",
        "    ## end - Add your code here\n",
        "MSD_BM = np.asarray(MSD_BM_list)\n",
        "\n",
        "# Empty MSD_CRW\n",
        "MSD_CRW = np.empty(shape=(0))\n",
        "MSD_CRW_list = []\n",
        "# MSD for CRW_2d_df_9\n",
        "for tau in range(1,CRW_2d_df_9.shape[0]):\n",
        "    ## start - Add your code here\n",
        "    displacement_vec_crw = np.array([distance.euclidean(CRW_2d_df_9.iloc[i-tau], CRW_2d_df_9.iloc[i])\n",
        "                  for i in range(tau, CRW_2d_df_9.shape[0],1)])\n",
        "    MSD_CRW_list.append(np.sum(np.power(displacement_vec_crw, 2))/len(displacement_vec_crw))\n",
        "    ## end - Add your code here\n",
        "MSD_CRW = np.asarray(MSD_CRW_list)"
      ],
      "metadata": {
        "id": "IfjEOmboq0Rc"
      },
      "execution_count": null,
      "outputs": []
    },
    {
      "cell_type": "code",
      "source": [
        "# Get Mean Squared Displacement calling the function\n",
        "MSD_BM = # Add your code here function(BM_2d_df_6)\n",
        "\n",
        "# Get Mean Squared Displacement calling the function\n",
        "MSD_CRW = # Add your code here function(CRW_2d_df_9)"
      ],
      "metadata": {
        "id": "DsgnArnkyPlX"
      },
      "execution_count": null,
      "outputs": []
    },
    {
      "cell_type": "code",
      "source": [
        "@@@@javiiiiii\n",
        "# Save metrics to Dataframe\n",
        "## start - Add your code here\n",
        "MSD_BM_df = pd.DataFrame(MSD_BM)\n",
        "MSD_CRW_df = pd.DataFrame(MSD_CRW)\n",
        "## end - Add your code here\n",
        "\n",
        "# Write to csv\n",
        "## start - Add your code here\n",
        "MSD_BM_df.to_csv(\"G:/Mi unidad/MCPA/2º_Semestre/Tópico_de_la_Industria_I/Semana3_03-09-22/metricsBM.csv\")\n",
        "MSD_CRW_df.to_csv(\"G:/Mi unidad/MCPA/2º_Semestre/Tópico_de_la_Industria_I/Semana3_03-09-22/metricsCRW.csv\")\n",
        "## end - Add your code here"
      ],
      "metadata": {
        "id": "7XQclQBCrIw8"
      },
      "execution_count": null,
      "outputs": []
    },
    {
      "cell_type": "code",
      "source": [
        "# Init figure\n",
        "fig_path_length = go.Figure()\n",
        "\n",
        "# first trace MSD_BM\n",
        "## start - Add your code here\n",
        "fig_path_length.add_trace(go.Scatter(\n",
        "    x = np.arange(len(MSD_BM)),\n",
        "    y = MSD_BM,\n",
        "    marker = dict(size=2),\n",
        "    line = dict(width=1),\n",
        "    mode = 'lines',\n",
        "    name = 'MSD_BM',\n",
        "    showlegend = True\n",
        "))\n",
        "\n",
        "## end - Add your code here\n",
        "\n",
        "\n",
        "# Second trace MSD_CRW\n",
        "## start - Add your code here\n",
        "fig_path_length.add_trace(go.Scatter(\n",
        "    x = np.arange(len(MSD_CRW)),\n",
        "    y = MSD_CRW,\n",
        "    marker = dict(size=2),\n",
        "    line = dict(width=1),\n",
        "    mode = 'lines',\n",
        "    name = 'MSD_CRW',\n",
        "    showlegend = True\n",
        "))\n",
        "## end - Add your code here\n",
        "\n",
        "\n",
        "fig_path_length.show()\n"
      ],
      "metadata": {
        "id": "zGQy5nAuyUnq"
      },
      "execution_count": null,
      "outputs": []
    },
    {
      "cell_type": "markdown",
      "source": [
        "## Actividad 3: Turning-angle Distribution - (Dist. origen vs Dist. observada) (6 pts)\n",
        "\n",
        "* Generar **CRWs** con dos exponentes diferentes\n",
        "* Guardar trayectorias en **Pandas** Data Frame\n",
        "* Implementar una función que calcule los valores de **turning angle** de una trayectoria.\n",
        "* Comparar en gráfica distribución origen vs distribución observada (Histograma)\n",
        "* Visualizar con **plotly**"
      ],
      "metadata": {
        "id": "LykTk5kvyid3"
      }
    },
    {
      "cell_type": "code",
      "source": [
        "# Load existing trajectories to test your implementation\n",
        "# CRW speed = 6,\n",
        "# wrapcauchy [c = 0.6]\n",
        "CRW_2d_df_6 = pd.read_csv('trajectories/crw_6_6.csv')\n",
        "\n",
        "# Load existing trajectories to test your implementation\n",
        "# CRW speed = 6,\n",
        "# wrapcauchy [c = 0.9]\n",
        "CRW_2d_df_9 = pd.read_csv('trajectories/crw_6_9.csv')"
      ],
      "metadata": {
        "id": "aNgA1dOyymEj"
      },
      "execution_count": null,
      "outputs": []
    },
    {
      "cell_type": "code",
      "source": [
        "# Init variables\n",
        "CRW_exponent6 = 0.6\n",
        "CRW_exponent9 = 0.9\n",
        "\n",
        "# Resolution\n",
        "resolution6 = CRW_2d_df_6.shape[0]\n",
        "resolution9 = CRW_2d_df_9.shape[0]\n",
        "\n",
        "\n",
        "aux_domain6 = np.linspace(0, 2*np.pi, resolution6)\n",
        "aux_domain9 = np.linspace(0, 2*np.pi, resolution9)\n",
        "\n",
        "wrapcauchy_pdf6 = np.array([wrapcauchy.pdf(i, CRW_exponent6) for i in aux_domain6])\n",
        "wrapcauchy_pdf9 = np.array([wrapcauchy.pdf(j, CRW_exponent9) for j in aux_domain9])\n",
        "\n",
        "maxD6 = np.max(aux_domain6)\n",
        "for k in range(len(aux_domain6)):\n",
        "    if (aux_domain6[k]>maxD6/2):\n",
        "        aux_domain6[k] = aux_domain6[k]-maxD6\n",
        "\n",
        "maxD9 = np.max(aux_domain9)\n",
        "for l in range(len(aux_domain9)):\n",
        "    if (aux_domain9[l]>maxD9/2):\n",
        "        aux_domain9[l] = aux_domain9[l]-maxD9"
      ],
      "metadata": {
        "id": "hliG047K0wTo"
      },
      "execution_count": null,
      "outputs": []
    },
    {
      "cell_type": "code",
      "source": [
        "# aux to store turning angles\n",
        "aux_ta_CRW_2d_df_6 = np.empty(shape=(0))\n",
        "\n",
        "\n",
        "# Iterate over trajectory compute turning angles\n",
        "for index, row in CRW_2d_df_6[1:-1].iterrows():\n",
        "    ## start - Add your code here\n",
        "\n",
        "    ## end - Add your code here\n",
        "\n",
        "# aux to store turning angles\n",
        "aux_ta_CRW_2d_df_9 = np.empty(shape=(0))\n",
        "\n",
        "\n",
        "\n",
        "## start - Add your code here\n",
        "\n",
        "## end - Add your code here"
      ],
      "metadata": {
        "id": "AqkBhwFeyrnG"
      },
      "execution_count": null,
      "outputs": []
    },
    {
      "cell_type": "code",
      "source": [
        "# Define your function to compute Turning Angles for given trajectory\n",
        "\n",
        "## start - Add your code here\n",
        "# def function (trajectory):\n",
        "\n",
        "\n",
        "    #return ta_df\n",
        "\n",
        "## end - Add your code here"
      ],
      "metadata": {
        "id": "OtyjvTJtyyrE"
      },
      "execution_count": null,
      "outputs": []
    },
    {
      "cell_type": "code",
      "source": [
        "# Get Turning Angles calling the function\n",
        "ta_CRW_2d_df_6 = # Add your code here function(CRW_2d_df_6)\n",
        "\n",
        "# Get Turning Angles calling the function\n",
        "ta_CRW_2d_df_9 = # Add your code here function(CRW_2d_df_9)"
      ],
      "metadata": {
        "id": "AwYeefb9y5PV"
      },
      "execution_count": null,
      "outputs": []
    },
    {
      "cell_type": "code",
      "source": [
        "# Check documentation\n",
        "# https://plotly.com/python/histograms/\n",
        "\n",
        "# PLot histogram\n",
        "fig_met_df_3 = go.Figure()\n",
        "\n",
        "\n",
        "# Histogram turning angle CRW_2d_df_6\n",
        "## start - Add your code here\n",
        "\n",
        "## end - Add your code here\n",
        "\n",
        "\n",
        "# Histogram turning angle CRW_2d_df_9\n",
        "## start - Add your code here\n",
        "\n",
        "## end - Add your code here\n",
        "\n",
        "\n",
        "# Add origin distributions\n",
        "## start - Add your code here\n",
        "\n",
        "## end - Add your code here\n",
        "\n",
        "\n",
        "fig_met_df_3.show()"
      ],
      "metadata": {
        "id": "cUtsroY2y88Q"
      },
      "execution_count": null,
      "outputs": []
    },
    {
      "cell_type": "markdown",
      "source": [
        "## Actividad 4: Step-length Distribution - (Dist. origen vs Dist. observada) (6 pts)\n",
        "\n",
        "* Implementar función que genere **Lévy Walks** (LW) utilizando pandas.\n",
        "* Guardar trayectorias en Pandas Data Frame.\n",
        "* Implementar una función que calcule los valores de **step lenght** de una trayectoria.\n",
        "* Guardar trayectorias en **pandas** Data Frame.\n",
        "* Obtener **Step-length** distribution.\n",
        "* Comparar en gráfica distribución origen vs distribución observada (Histograma).\n",
        "* Visualizar con plotly."
      ],
      "metadata": {
        "id": "KDmTI_qOzI0g"
      }
    },
    {
      "cell_type": "code",
      "source": [
        "# Load existing trajectories to test your implementation\n",
        "# Levy speed = 6\n",
        "# levy_stable [alpha=1.0, beta=1.0, loc=3.0]\n",
        "Levy_2d_df_1 = pd.read_csv('trajectories/levy_6_1.csv')\n",
        "\n",
        "# Load existing trajectories to test your implementation\n",
        "# Levy speed = 6\n",
        "# levy_stable [alpha=0.7, beta=1.0, loc=3.0]\n",
        "Levy_2d_df_7 = pd.read_csv('trajectories/levy_6_7.csv')"
      ],
      "metadata": {
        "id": "Ov5dmMZqzJ9R"
      },
      "execution_count": null,
      "outputs": []
    },
    {
      "cell_type": "code",
      "source": [
        "# Define your function to compute Step lengths for given trajectory\n",
        "\n",
        "## start - Add your code here\n",
        "# def function (trajectory):\n",
        "\n",
        "\n",
        "    #return sl_df\n",
        "\n",
        "## end - Add your code here"
      ],
      "metadata": {
        "id": "3yqKO3qZzVC9"
      },
      "execution_count": null,
      "outputs": []
    },
    {
      "cell_type": "code",
      "source": [
        "# Get Step lengths calling the function\n",
        "sl_Levy_2d_df_1 = # Add your code here function(Levy_2d_df_1)\n",
        "\n",
        "# Get Step lengths calling the function\n",
        "sl_Levy_2d_df_7 = # Add your code here function(Levy_2d_df_7)"
      ],
      "metadata": {
        "id": "YiZzAzQIzYLK"
      },
      "execution_count": null,
      "outputs": []
    },
    {
      "cell_type": "code",
      "source": [
        "# PLot histogram\n",
        "fig_met_df_4 = go.Figure()\n",
        "\n",
        "# Histogram step-length Levy_2d_df_1\n",
        "## start - Add your code here\n",
        "\n",
        "## end - Add your code here\n",
        "\n",
        "\n",
        "# Histogram step-length Levy_2d_df_7\n",
        "## start - Add your code here\n",
        "\n",
        "## end - Add your code here\n",
        "\n",
        "\n",
        "# Add origin distributions\n",
        "## start - Add your code here\n",
        "\n",
        "## end - Add your code here\n",
        "\n",
        "\n",
        "fig_met_df_4.show()"
      ],
      "metadata": {
        "id": "w2nfjR7Qzb2d"
      },
      "execution_count": null,
      "outputs": []
    },
    {
      "cell_type": "markdown",
      "source": [],
      "metadata": {
        "id": "B6TpeFBdDjUH"
      }
    }
  ]
}