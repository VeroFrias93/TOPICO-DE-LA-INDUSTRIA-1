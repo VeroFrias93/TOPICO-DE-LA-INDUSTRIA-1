{
  "nbformat": 4,
  "nbformat_minor": 0,
  "metadata": {
    "colab": {
      "provenance": [],
      "authorship_tag": "ABX9TyNjhFj2J8k3zIs5XvA17AeJ",
      "include_colab_link": true
    },
    "kernelspec": {
      "name": "python3",
      "display_name": "Python 3"
    },
    "language_info": {
      "name": "python"
    }
  },
  "cells": [
    {
      "cell_type": "markdown",
      "metadata": {
        "id": "view-in-github",
        "colab_type": "text"
      },
      "source": [
        "<a href=\"https://colab.research.google.com/github/VeroFrias93/TOPICO-DE-LA-INDUSTRIA-1/blob/main/Practica_3_Veronica_Frias.ipynb\" target=\"_parent\"><img src=\"https://colab.research.google.com/assets/colab-badge.svg\" alt=\"Open In Colab\"/></a>"
      ]
    },
    {
      "cell_type": "markdown",
      "source": [
        "# Práctica 3\n",
        "\n",
        "**Nombre:** Veronica Marisela Frias Peralta  \n",
        "**e-mail:** veronica.frias6148@alumnos.udg.mx"
      ],
      "metadata": {
        "id": "JtxY719pBXEA"
      }
    },
    {
      "cell_type": "markdown",
      "source": [
        "# MODULES"
      ],
      "metadata": {
        "id": "qdeMdgfyBzjo"
      }
    },
    {
      "cell_type": "code",
      "source": [
        "import math\n",
        "import numpy as np\n",
        "import pandas as pd\n",
        "\n",
        "import plotly.graph_objects as go\n",
        "\n",
        "from scipy.stats import wrapcauchy\n",
        "from scipy.stats import levy_stable\n",
        "\n",
        "from scipy.spatial import distance"
      ],
      "metadata": {
        "id": "UiiEpApzBrEw"
      },
      "execution_count": null,
      "outputs": []
    },
    {
      "cell_type": "markdown",
      "source": [
        "## CLASSES"
      ],
      "metadata": {
        "id": "ssQGvQhoB4OP"
      }
    },
    {
      "cell_type": "code",
      "execution_count": null,
      "metadata": {
        "id": "9CGrq0w4uD0g"
      },
      "outputs": [],
      "source": [
        "################# http://www.pygame.org/wiki/2DVectorClass ##################\n",
        "class Vec2d(object):\n",
        "    \"\"\"2d vector class, supports vector and scalar operators,\n",
        "       and also provides a bunch of high level functions\n",
        "       \"\"\"\n",
        "    __slots__ = ['x', 'y']\n",
        "\n",
        "    def __init__(self, x_or_pair, y = None):\n",
        "        if y == None:\n",
        "            self.x = x_or_pair[0]\n",
        "            self.y = x_or_pair[1]\n",
        "        else:\n",
        "            self.x = x_or_pair\n",
        "            self.y = y\n",
        "\n",
        "    # Addition\n",
        "    def __add__(self, other):\n",
        "        if isinstance(other, Vec2d):\n",
        "            return Vec2d(self.x + other.x, self.y + other.y)\n",
        "        elif hasattr(other, \"__getitem__\"):\n",
        "            return Vec2d(self.x + other[0], self.y + other[1])\n",
        "        else:\n",
        "            return Vec2d(self.x + other, self.y + other)\n",
        "\n",
        "    # Subtraction\n",
        "    def __sub__(self, other):\n",
        "        if isinstance(other, Vec2d):\n",
        "            return Vec2d(self.x - other.x, self.y - other.y)\n",
        "        elif (hasattr(other, \"__getitem__\")):\n",
        "            return Vec2d(self.x - other[0], self.y - other[1])\n",
        "        else:\n",
        "            return Vec2d(self.x - other, self.y - other)\n",
        "\n",
        "    # Vector length\n",
        "    def get_length(self):\n",
        "        return math.sqrt(self.x**2 + self.y**2)\n",
        "\n",
        "    # rotate vector\n",
        "    def rotated(self, angle):\n",
        "        cos = math.cos(angle)\n",
        "        sin = math.sin(angle)\n",
        "        x = self.x*cos - self.y*sin\n",
        "        y = self.x*sin + self.y*cos\n",
        "        return Vec2d(x, y)"
      ]
    },
    {
      "cell_type": "markdown",
      "source": [
        "## FUNCTIONS"
      ],
      "metadata": {
        "id": "Fn3ywWRbDW2-"
      }
    },
    {
      "cell_type": "code",
      "source": [
        "###############################################################################################\n",
        "# Turning angle\n",
        "# This function calculates the turning angle between three consecutive positions\n",
        "###############################################################################################\n",
        "def turning_angle(pos_a, pos_b, pos_c):\n",
        "    \"\"\"\n",
        "    Arguments:\n",
        "        pos_a: First position coordinates\n",
        "        pos_b: Second position coordinates\n",
        "        pos_c: Third position coordinates\n",
        "    Returns:\n",
        "        theta: Turning angle\n",
        "    \"\"\"\n",
        "    vec_ab = #code here\n",
        "    norm_ab = #code here\n",
        "\n",
        "    vec_bc = #code here\n",
        "    norm_bc = #code here\n",
        "\n",
        "    dot_p = #code here\n",
        "\n",
        "    # Nota: Evitar division por cero con np.finfo(float).eps\n",
        "    cos_theta = #code here\n",
        "\n",
        "    # Angle orientation\n",
        "    cross_p = #code here\n",
        "    orient = np.sign(cross_p)\n",
        "    if orient == 0:\n",
        "        orient = 1\n",
        "\n",
        "    theta = np.arccos(np.around(cos_theta,4)) * orient\n",
        "    return theta\n",
        "\n"
      ],
      "metadata": {
        "id": "iGbc_IemDcRG"
      },
      "execution_count": null,
      "outputs": []
    },
    {
      "cell_type": "markdown",
      "source": [
        "## Actividad 1: Path Length - (BM1 vs BM2 vs CRW) (4 pts)\n",
        "\n",
        "* Implementar función que genere **Brownian Motions** (BM) utilizando **pandas**.\n",
        "* Implementar función que genere **Correlated Random Walks** (CRW) utilizando pandas.\n",
        "* Implementar una función alternativa a las ya disponibles en los distintos modulos de python que calcule los valores de la curva de **path length** de una trayectoria.\n",
        "* Guardar los valores de la métrica en un Data Frame de **pandas**.\n",
        "* Visualizar con **plotly**."
      ],
      "metadata": {
        "id": "jsJC2CSjDkH6"
      }
    },
    {
      "cell_type": "code",
      "source": [
        "# Load existing trajectories to test your implementation\n",
        "# BM speed = 3\n",
        "BM_2d_df_3 = pd.read_csv('trajectories/brownian_3.csv')\n",
        "\n",
        "# Load existing trajectories to test your implementation\n",
        "# BM speed = 6\n",
        "BM_2d_df_6 = pd.read_csv('trajectories/brownian_6.csv')\n",
        "\n",
        "# Load existing trajectories to test your implementation\n",
        "CRW_2d_df_9 = pd.read_csv('trajectories/crw_6_9.csv')"
      ],
      "metadata": {
        "id": "_CA5dm86DeQn"
      },
      "execution_count": null,
      "outputs": []
    },
    {
      "cell_type": "code",
      "source": [
        "# Define your function to compute path length for given trajectory\n",
        "\n",
        "## start - Add your code here\n",
        "# def function (trajectory):\n",
        "\n",
        "\n",
        "    #return path_length_df\n",
        "\n",
        "## end - Add your code here"
      ],
      "metadata": {
        "id": "QzU9itOnDxuw"
      },
      "execution_count": null,
      "outputs": []
    },
    {
      "cell_type": "code",
      "source": [
        "# Get Path length calling the function\n",
        "PL_BM_3 = # Add your code here function(BM_2d_df_3)\n",
        "\n",
        "# Get Path length calling the function\n",
        "PL_BM_6 = # Add your code here function(BM_2d_df_6)\n",
        "\n",
        "# Get Path length calling the function\n",
        "PL_CRW_6 = # Add your code here function(CRW_2d_df_9)"
      ],
      "metadata": {
        "id": "KJ6P93ksD3RQ"
      },
      "execution_count": null,
      "outputs": []
    },
    {
      "cell_type": "code",
      "source": [
        "# Plotting\n",
        "# Init figure\n",
        "fig_path_length = go.Figure()\n",
        "\n",
        "# First trace BM1\n",
        "## start - Add your code here\n",
        "\n",
        "## end - Add your code here\n",
        "\n",
        "\n",
        "# Second trace BM2\n",
        "## start - Add your code here\n",
        "\n",
        "## end - Add your code here\n",
        "\n",
        "\n",
        "# Third trace CRW\n",
        "## start - Add your code here\n",
        "\n",
        "## end - Add your code here\n",
        "\n",
        "\n",
        "fig_path_length.show()"
      ],
      "metadata": {
        "id": "gp0yh7tuD7qQ"
      },
      "execution_count": null,
      "outputs": []
    },
    {
      "cell_type": "markdown",
      "source": [
        "## Actividad 2: Mean Squared Displacement - (Brownian vs CRW) (4 pts)\n",
        "\n",
        "* Generar una trayectoria tipo **BM** y una **CRW**.\n",
        "* Implementar una función que calcule los valores de la curva de **mean squared displacement** de una trayectoria.\n",
        "* Guardar metricas en Pandas Data Frame.\n",
        "* Visualizar con **plotly**."
      ],
      "metadata": {
        "id": "Fclg7gy0EBAw"
      }
    },
    {
      "cell_type": "markdown",
      "source": [],
      "metadata": {
        "id": "B6TpeFBdDjUH"
      }
    }
  ]
}