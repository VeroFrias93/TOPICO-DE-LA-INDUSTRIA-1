{
  "nbformat": 4,
  "nbformat_minor": 0,
  "metadata": {
    "colab": {
      "provenance": [],
      "authorship_tag": "ABX9TyMrHMI6N2NLJ24ixqqPi2kP",
      "include_colab_link": true
    },
    "kernelspec": {
      "name": "python3",
      "display_name": "Python 3"
    },
    "language_info": {
      "name": "python"
    }
  },
  "cells": [
    {
      "cell_type": "markdown",
      "metadata": {
        "id": "view-in-github",
        "colab_type": "text"
      },
      "source": [
        "<a href=\"https://colab.research.google.com/github/VeroFrias93/TOPICO-DE-LA-INDUSTRIA-1/blob/main/PRACTICA_2_VERONICA_FRIAS_.ipynb\" target=\"_parent\"><img src=\"https://colab.research.google.com/assets/colab-badge.svg\" alt=\"Open In Colab\"/></a>"
      ]
    },
    {
      "cell_type": "markdown",
      "source": [
        "# Práctica 2\n",
        "\n",
        "**Nombre:** Veronica Marisela Frias Peralta\n",
        "**e-mail:** veronica.frias6148@alumnos.udg.mx"
      ],
      "metadata": {
        "id": "rKJx23LagB6j"
      }
    },
    {
      "cell_type": "markdown",
      "source": [
        "## MODULES"
      ],
      "metadata": {
        "id": "JY0OU1ikf9-T"
      }
    },
    {
      "cell_type": "code",
      "source": [
        "import math\n",
        "import numpy as np\n",
        "import matplotlib.pyplot as plt\n",
        "import pandas as pd\n",
        "\n",
        "from plotly.subplots import make_subplots\n",
        "import plotly.graph_objects as go\n",
        "\n",
        "\n",
        "from scipy.stats import wrapcauchy\n",
        "from scipy.stats import levy_stable"
      ],
      "metadata": {
        "id": "GK-qUrxugSov"
      },
      "execution_count": 2,
      "outputs": []
    },
    {
      "cell_type": "markdown",
      "source": [
        "##CLASSES"
      ],
      "metadata": {
        "id": "q1OuANaEfSIO"
      }
    },
    {
      "cell_type": "code",
      "source": [
        "################# http://www.pygame.org/wiki/2DVectorClass ##################\n",
        "class Vec2d(object):\n",
        "    \"\"\"2d vector class, supports vector and scalar operators,\n",
        "       and also provides a bunch of high level functions\n",
        "       \"\"\"\n",
        "    __slots__ = ['x', 'y']\n",
        "\n",
        "    def __init__(self, x_or_pair, y = None):\n",
        "        if y == None:\n",
        "            self.x = x_or_pair[0]\n",
        "            self.y = x_or_pair[1]\n",
        "        else:\n",
        "            self.x = x_or_pair\n",
        "            self.y = y\n",
        "\n",
        "    # Addition\n",
        "    def __add__(self, other):\n",
        "        if isinstance(other, Vec2d):\n",
        "            return Vec2d(self.x + other.x, self.y + other.y)\n",
        "        elif hasattr(other, \"__getitem__\"):\n",
        "            return Vec2d(self.x + other[0], self.y + other[1])\n",
        "        else:\n",
        "            return Vec2d(self.x + other, self.y + other)\n",
        "\n",
        "    # Subtraction\n",
        "    def __sub__(self, other):\n",
        "        if isinstance(other, Vec2d):\n",
        "            return Vec2d(self.x - other.x, self.y - other.y)\n",
        "        elif (hasattr(other, \"__getitem__\")):\n",
        "            return Vec2d(self.x - other[0], self.y - other[1])\n",
        "        else:\n",
        "            return Vec2d(self.x - other, self.y - other)\n",
        "\n",
        "    # Vector length\n",
        "    def get_length(self):\n",
        "        return math.sqrt(self.x**2 + self.y**2)\n",
        "\n",
        "    # rotate vector\n",
        "    def rotated(self, angle):\n",
        "        cos = math.cos(angle)\n",
        "        sin = math.sin(angle)\n",
        "        x = self.x*cos - self.y*sin\n",
        "        y = self.x*sin + self.y*cos\n",
        "        return Vec2d(x, y)"
      ],
      "metadata": {
        "id": "3HNBoOVigker"
      },
      "execution_count": 3,
      "outputs": []
    },
    {
      "cell_type": "markdown",
      "source": [
        "Actividad 1: Lévy distribution - N Curves (3 pts)\n",
        "Generar al menos las 4 curvas de distribución timpo Lévy stable que se observan en la imagen.\n",
        "\n",
        "Visualizar con plotly.\n",
        "\n",
        "Parametros m = 3.0, Levy_exponent = x, beta = 0"
      ],
      "metadata": {
        "id": "SYzngMNXhJQw"
      }
    }
  ]
}